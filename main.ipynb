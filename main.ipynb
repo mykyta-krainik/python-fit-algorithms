{
 "cells": [
  {
   "cell_type": "code",
   "execution_count": 35,
   "metadata": {},
   "outputs": [],
   "source": [
    "import pandas as pd\n",
    "import typing as tp\n",
    "import math"
   ]
  },
  {
   "cell_type": "code",
   "execution_count": 36,
   "metadata": {},
   "outputs": [],
   "source": [
    "class Container(tp.TypedDict):\n",
    "    load: int\n",
    "    items: list[int]"
   ]
  },
  {
   "cell_type": "code",
   "execution_count": 37,
   "metadata": {},
   "outputs": [],
   "source": [
    "Distribution = list[Container]"
   ]
  },
  {
   "cell_type": "code",
   "execution_count": 38,
   "metadata": {},
   "outputs": [],
   "source": [
    "# Distribution contains the list of containers with the list of items in each container\n",
    "FittingResult = tp.TypedDict(\"FittingResult\", {\n",
    "    \"distribution\": Distribution,\n",
    "    \"containers_num\": int,\n",
    "    \"comparison_num\": int,\n",
    "})"
   ]
  },
  {
   "cell_type": "code",
   "execution_count": 39,
   "metadata": {},
   "outputs": [],
   "source": [
    "def read_data_frame_from_csv(file_path: str, custom_column_names: list = None) -> pd.DataFrame:\n",
    "  \"\"\"\n",
    "  Reads a data frame from a csv file.\n",
    "  \"\"\"\n",
    "  return pd.read_csv(file_path, names=custom_column_names)\n",
    "\n",
    "def get_data_frame_row(data_frame: pd.DataFrame, row_index: int) -> pd.Series:\n",
    "  \"\"\"\n",
    "  Returns a row of a data frame as a list.\n",
    "  \"\"\"\n",
    "  return data_frame.iloc[row_index]\n",
    "\n",
    "def get_num_elements_in_row(df: pd.DataFrame, row_index: int) -> int:\n",
    "  \"\"\"\n",
    "  Returns the number of elements in a row of a Pandas DataFrame.\n",
    "  \"\"\"\n",
    "  return len(get_data_frame_row(df, row_index))\n",
    "\n",
    "def get_num_rows(df: pd.DataFrame) -> int:\n",
    "  \"\"\"\n",
    "  Returns the number of rows in a Pandas DataFrame.\n",
    "  \"\"\"\n",
    "  return df.shape[0]"
   ]
  },
  {
   "cell_type": "code",
   "execution_count": 40,
   "metadata": {},
   "outputs": [],
   "source": [
    "def merge_sort(array: list[int], ascending_order=True) -> tuple[int, list[int]]:\n",
    "  \"\"\"\n",
    "  Sorts a copy of an array of integers in the specified order.\n",
    "  \"\"\"\n",
    "  comparison_num = 0\n",
    "\n",
    "  if len(array) > 1:\n",
    "    # Divide the array into two halves\n",
    "    mid = len(array) // 2\n",
    "    left_half = array[:mid]\n",
    "    right_half = array[mid:]\n",
    "\n",
    "    # Recursively sort the two halves\n",
    "    left_data = merge_sort(left_half, ascending_order)\n",
    "    left_half = left_data[1]\n",
    "    comparison_num += left_data[0]\n",
    "\n",
    "    right_data = merge_sort(right_half, ascending_order)\n",
    "    right_half = right_data[1]\n",
    "    comparison_num += right_data[0]\n",
    "\n",
    "    # Merge the sorted halves\n",
    "    i = j = k = 0\n",
    "    merged_array = [0] * len(array)\n",
    "\n",
    "    while i < len(left_half) and j < len(right_half):\n",
    "      comparison_num += 1\n",
    "\n",
    "      if (left_half[i] < right_half[j] and ascending_order) or (left_half[i] > right_half[j] and not ascending_order):\n",
    "        merged_array[k] = left_half[i]\n",
    "        i += 1\n",
    "      else:\n",
    "        merged_array[k] = right_half[j]\n",
    "        j += 1\n",
    "\n",
    "      k += 1\n",
    "\n",
    "    # Copy the remaining elements of left_half, if any\n",
    "    while i < len(left_half):\n",
    "      merged_array[k] = left_half[i]\n",
    "      i += 1\n",
    "      k += 1\n",
    "\n",
    "    # Copy the remaining elements of right_half, if any\n",
    "    while j < len(right_half):\n",
    "      merged_array[k] = right_half[j]\n",
    "      j += 1\n",
    "      k += 1\n",
    "\n",
    "    return (comparison_num, merged_array)\n",
    "  else:\n",
    "    return (comparison_num, array.copy())"
   ]
  },
  {
   "cell_type": "code",
   "execution_count": 41,
   "metadata": {},
   "outputs": [],
   "source": [
    "def next_fit_algorithm(item_weights: list[int], container_capacity: int) -> FittingResult:\n",
    "  \"\"\"\n",
    "  Runs the next fit algorithm on the data.\n",
    "  \"\"\"\n",
    "  distribution: Distribution = []\n",
    "  containers_num = 0\n",
    "  comparison_num = 0\n",
    "\n",
    "  for weight in item_weights:\n",
    "    comparison_num += 1\n",
    "\n",
    "    if len(distribution) > 0 and distribution[-1][\"load\"] + weight <= container_capacity:\n",
    "      distribution[-1][\"items\"].append(weight)\n",
    "      distribution[-1][\"load\"] += weight\n",
    "\n",
    "      continue\n",
    "\n",
    "    containers_num += 1\n",
    "    distribution.append(Container(load=weight, items=[weight]))\n",
    "\n",
    "  return {\n",
    "      \"distribution\": distribution,\n",
    "      \"containers_num\": containers_num,\n",
    "      \"comparison_num\": comparison_num,\n",
    "  }"
   ]
  },
  {
   "cell_type": "code",
   "execution_count": 42,
   "metadata": {},
   "outputs": [],
   "source": [
    "def first_fit_algorithm(item_weights: list[int], container_capacity: int) -> FittingResult:\n",
    "  \"\"\"\n",
    "  Runs the first fit algorithm on the data.\n",
    "  \"\"\"\n",
    "  distribution: Distribution = []\n",
    "  containers_num = 0\n",
    "  comparison_num = 0\n",
    "\n",
    "  for weight in item_weights:\n",
    "    container_found = False\n",
    "    \n",
    "    for container in distribution:\n",
    "      comparison_num += 1\n",
    "\n",
    "      if container[\"load\"] + weight <= container_capacity:\n",
    "        container[\"items\"].append(weight)\n",
    "        container[\"load\"] += weight\n",
    "        container_found = True\n",
    "\n",
    "        break\n",
    "\n",
    "    if not container_found:\n",
    "      distribution.append(Container(load=weight, items=[weight]))\n",
    "      containers_num += 1\n",
    "\n",
    "  return {\n",
    "      \"distribution\": distribution,\n",
    "      \"containers_num\": containers_num,\n",
    "      \"comparison_num\": comparison_num,\n",
    "  }"
   ]
  },
  {
   "cell_type": "code",
   "execution_count": 43,
   "metadata": {},
   "outputs": [],
   "source": [
    "def worst_fit_algorithm(item_weights: list[int], container_capacity: int) -> FittingResult:\n",
    "  \"\"\"\n",
    "  Runs the worst fit algorithm on the data\n",
    "  It finds the container with the most free space and puts the item there\n",
    "  \"\"\"\n",
    "  distribution: Distribution = []\n",
    "  containers_num = 0\n",
    "  comparison_num = 0\n",
    "\n",
    "  for weight in item_weights:\n",
    "    container_with_min_load_index = -1\n",
    "    min_load = container_capacity + 1\n",
    "\n",
    "    if len(distribution) > 0 and distribution[-1][\"load\"] + weight <= container_capacity:\n",
    "      distribution[-1][\"items\"].append(weight)\n",
    "      distribution[-1][\"load\"] += weight\n",
    "\n",
    "      continue\n",
    "\n",
    "    comparison_num += 1\n",
    "\n",
    "    for i, container in enumerate(distribution):\n",
    "      comparison_num += 2\n",
    "      current_load = container[\"load\"]\n",
    "\n",
    "      if current_load + weight <= container_capacity and current_load < min_load:\n",
    "        container_with_min_load_index = i\n",
    "        min_load = current_load\n",
    "\n",
    "    min_load = container_capacity + 1\n",
    "\n",
    "    if container_with_min_load_index == -1:\n",
    "      distribution.append(Container(load=weight, items=[weight]))\n",
    "      containers_num += 1\n",
    "\n",
    "      continue\n",
    "\n",
    "    container_with_min_load_index = -1\n",
    "    distribution[container_with_min_load_index][\"items\"].append(weight)\n",
    "    distribution[container_with_min_load_index][\"load\"] += weight\n",
    "\n",
    "  return {\n",
    "      \"distribution\": distribution,\n",
    "      \"containers_num\": containers_num,\n",
    "      \"comparison_num\": comparison_num,\n",
    "  }"
   ]
  },
  {
   "cell_type": "code",
   "execution_count": 44,
   "metadata": {},
   "outputs": [],
   "source": [
    "def best_fit_algorithm(item_weights: list[int], container_capacity: int) -> FittingResult:\n",
    "  \"\"\"\n",
    "  Runs the best fit algorithm on the data\n",
    "  It finds the most loaded container that has enough space for the item\n",
    "  \"\"\"\n",
    "  distribution: Distribution = []\n",
    "  containers_num = 0\n",
    "  comparison_num = 0\n",
    "\n",
    "  for weight in item_weights:\n",
    "    container_with_max_load_index = -1\n",
    "    max_load = -1\n",
    "\n",
    "    if len(distribution) > 0 and distribution[-1][\"load\"] + weight <= container_capacity:\n",
    "      distribution[-1][\"items\"].append(weight)\n",
    "      distribution[-1][\"load\"] += weight\n",
    "\n",
    "      continue\n",
    "\n",
    "    comparison_num += 1\n",
    "\n",
    "    for i, container in enumerate(distribution):\n",
    "      comparison_num += 2\n",
    "      current_load = container[\"load\"]\n",
    "\n",
    "      if current_load + weight <= container_capacity and current_load > max_load:\n",
    "        container_with_max_load_index = i\n",
    "        max_load = current_load\n",
    "\n",
    "    max_load = -1\n",
    "\n",
    "    if container_with_max_load_index == -1:\n",
    "      distribution.append(Container(load=weight, items=[weight]))\n",
    "      containers_num += 1\n",
    "\n",
    "      continue\n",
    "\n",
    "    container_with_max_load_index = -1\n",
    "    distribution[container_with_max_load_index][\"items\"].append(weight)\n",
    "    distribution[container_with_max_load_index][\"load\"] += weight\n",
    "\n",
    "  return {\n",
    "      \"distribution\": distribution,\n",
    "      \"containers_num\": containers_num,\n",
    "      \"comparison_num\": comparison_num,\n",
    "  }"
   ]
  },
  {
   "cell_type": "code",
   "execution_count": 45,
   "metadata": {},
   "outputs": [],
   "source": [
    "def calculate_min_containers_num(item_weights: list[int], container_capacity: int) -> int:\n",
    "  return math.ceil(sum(item_weights) / container_capacity)"
   ]
  },
  {
   "cell_type": "code",
   "execution_count": 46,
   "metadata": {},
   "outputs": [],
   "source": [
    "def fit_algos_decorator(algo: tp.Callable[[list[int], int], FittingResult], item_weights: list[int], container_capacity: int, should_sort = False, is_ascending = True) -> FittingResult:\n",
    "  comparison_num = 0\n",
    "  \n",
    "  if should_sort:\n",
    "    comparison_num, item_weights = merge_sort(item_weights, is_ascending)\n",
    "\n",
    "  results = algo(item_weights, container_capacity)\n",
    "\n",
    "  results[\"comparison_num\"] += comparison_num\n",
    "\n",
    "  return results"
   ]
  },
  {
   "cell_type": "code",
   "execution_count": 47,
   "metadata": {},
   "outputs": [],
   "source": [
    "def create_table_from(data: dict, row_names: list[str] = None):\n",
    "    \"\"\"\n",
    "    Builds a table from a list of tuples.\n",
    "    \"\"\"\n",
    "    table = pd.DataFrame(data, index=row_names)\n",
    "\n",
    "    return table"
   ]
  },
  {
   "cell_type": "code",
   "execution_count": null,
   "metadata": {},
   "outputs": [],
   "source": [
    "def transform_distribution_to_dict(data: list[Container], items: list[int]) -> dict:\n",
    "  new_form = dict()\n",
    "  items_num = len(items)\n",
    "  containers_num = len(data)\n",
    "  containers = [container[\"items\"] for container in data]\n",
    "  items = items.copy()\n",
    "\n",
    "  for i in range(1, items_num + 1):\n",
    "    new_form[f\"{i}\"] = [\"\"] * containers_num\n",
    "\n",
    "  for i, container in enumerate(containers):\n",
    "    for item in container:\n",
    "      item_index = items.index(item)\n",
    "      items[item_index] = -1\n",
    "      new_form[f\"{item_index + 1}\"][i] = item\n",
    "\n",
    "  return new_form"
   ]
  },
  {
   "cell_type": "code",
   "execution_count": 48,
   "metadata": {},
   "outputs": [],
   "source": [
    "def transform_distribution_to_data_frame(data: list[Container], items: list[int]) -> pd.DataFrame:\n",
    "  new_form = transform_distribution_to_dict(data, items)\n",
    "\n",
    "  return create_table_from(new_form, row_names=[f\"Container {i + 1}\" for i in range(len(data))])"
   ]
  },
  {
   "cell_type": "code",
   "execution_count": 49,
   "metadata": {},
   "outputs": [],
   "source": [
    "def solve(file_path: str, should_sort = False, is_ascending = True):\n",
    "  identifier = file_path.split('/')[1].split(\".\")[0]\n",
    "\n",
    "  if should_sort:\n",
    "    identifier += \"_sorted\"\n",
    "\n",
    "  if should_sort and is_ascending:\n",
    "    identifier += \"_ascending\"\n",
    "  elif should_sort and not is_ascending:\n",
    "    identifier += \"_descending\"\n",
    "\n",
    "  df = read_data_frame_from_csv(file_path)\n",
    "  rows_num = get_num_rows(df)\n",
    "\n",
    "  for row_index in range(rows_num):\n",
    "    row = get_data_frame_row(df, row_index)\n",
    "    item_weights = [int(weight) for weight in row.to_list()]\n",
    "\n",
    "    container_capacity = 100\n",
    "\n",
    "    nfa_result = fit_algos_decorator(next_fit_algorithm, item_weights, container_capacity, should_sort, is_ascending)\n",
    "    ffa_result = fit_algos_decorator(first_fit_algorithm, item_weights, container_capacity, should_sort, is_ascending)\n",
    "    bfa_result = fit_algos_decorator(best_fit_algorithm, item_weights, container_capacity, should_sort, is_ascending)\n",
    "    wfa_result = fit_algos_decorator(worst_fit_algorithm, item_weights, container_capacity, should_sort, is_ascending)\n",
    "\n",
    "    algorithms_results = {\n",
    "        \"Next Fit\": [nfa_result[\"containers_num\"], nfa_result[\"comparison_num\"]],\n",
    "        \"First Fit\": [ffa_result[\"containers_num\"], ffa_result[\"comparison_num\"]],\n",
    "        \"Best Fit\": [bfa_result[\"containers_num\"], bfa_result[\"comparison_num\"]],\n",
    "        \"Worst Fit\": [wfa_result[\"containers_num\"], wfa_result[\"comparison_num\"]],\n",
    "    }\n",
    "\n",
    "    distribution_results = {\n",
    "        \"next-fit\": nfa_result[\"distribution\"],\n",
    "        \"first-fit\": ffa_result[\"distribution\"],\n",
    "        \"best-fit\": bfa_result[\"distribution\"],\n",
    "        \"worst-fit\": wfa_result[\"distribution\"],\n",
    "    }\n",
    "\n",
    "    min_containers_num = calculate_min_containers_num(item_weights, container_capacity)\n",
    "\n",
    "    algorithms_results[\"Min Containers Num\"] = min_containers_num\n",
    "\n",
    "    algorithms_results_table = create_table_from(algorithms_results, [\"Containers Num\", \"Comparison Num\"])\n",
    "    algorithms_results_table.to_csv(f\"results/{identifier}_{row_index + 1}.csv\", index=False)\n",
    "\n",
    "    for key, value in distribution_results.items():\n",
    "      distribution = transform_distribution_to_data_frame(value, item_weights)\n",
    "      distribution.to_csv(f\"results/{identifier}_{key}_distribution_{row_index + 1}.csv\", index=False)\n",
    "\n",
    "    distribution = transform_distribution_to_data_frame(nfa_result[\"distribution\"], item_weights)\n",
    "    distribution.to_csv(f\"results/{identifier}_distribution_{row_index + 1}.csv\", index=False)\n",
    "\n",
    "    print(f\"(Row #{row_index + 1}) Result:\")\n",
    "    print(algorithms_results_table, \"\\n\")"
   ]
  },
  {
   "cell_type": "code",
   "execution_count": 50,
   "metadata": {},
   "outputs": [
    {
     "name": "stdout",
     "output_type": "stream",
     "text": [
      "(Row #1) Result:\n",
      "                Next Fit  First Fit  Best Fit  Worst Fit  Min Containers Num\n",
      "Containers Num        13         13        13         13                  10\n",
      "Comparison Num        20         90       169        169                  10 \n",
      "\n",
      "(Row #2) Result:\n",
      "                Next Fit  First Fit  Best Fit  Worst Fit  Min Containers Num\n",
      "Containers Num        13         12        12         12                  11\n",
      "Comparison Num        20        109       190        190                  11 \n",
      "\n",
      "(Row #3) Result:\n",
      "                Next Fit  First Fit  Best Fit  Worst Fit  Min Containers Num\n",
      "Containers Num        13         12        12         12                  11\n",
      "Comparison Num        20        111       182        182                  11 \n",
      "\n"
     ]
    }
   ],
   "source": [
    "solve(\"data/original.csv\")"
   ]
  },
  {
   "cell_type": "code",
   "execution_count": 51,
   "metadata": {},
   "outputs": [
    {
     "name": "stdout",
     "output_type": "stream",
     "text": [
      "(Row #1) Result:\n",
      "                Next Fit  First Fit  Best Fit  Worst Fit  Min Containers Num\n",
      "Containers Num        14         14        14         14                  10\n",
      "Comparison Num        86        163       262        262                  10 \n",
      "\n",
      "(Row #2) Result:\n",
      "                Next Fit  First Fit  Best Fit  Worst Fit  Min Containers Num\n",
      "Containers Num        15         15        15         15                  11\n",
      "Comparison Num        83        176       288        288                  11 \n",
      "\n",
      "(Row #3) Result:\n",
      "                Next Fit  First Fit  Best Fit  Worst Fit  Min Containers Num\n",
      "Containers Num        14         14        14         14                  11\n",
      "Comparison Num        84        165       260        260                  11 \n",
      "\n"
     ]
    }
   ],
   "source": [
    "solve(\"data/original.csv\", should_sort=True)"
   ]
  },
  {
   "cell_type": "code",
   "execution_count": 52,
   "metadata": {},
   "outputs": [
    {
     "name": "stdout",
     "output_type": "stream",
     "text": [
      "(Row #1) Result:\n",
      "                Next Fit  First Fit  Best Fit  Worst Fit  Min Containers Num\n",
      "Containers Num        14         13        13         13                  10\n",
      "Comparison Num        85        167       396        396                  10 \n",
      "\n",
      "(Row #2) Result:\n",
      "                Next Fit  First Fit  Best Fit  Worst Fit  Min Containers Num\n",
      "Containers Num        15         12        12         12                  11\n",
      "Comparison Num        83        189       382        382                  11 \n",
      "\n",
      "(Row #3) Result:\n",
      "                Next Fit  First Fit  Best Fit  Worst Fit  Min Containers Num\n",
      "Containers Num        14         12        11         11                  11\n",
      "Comparison Num        85        186       370        370                  11 \n",
      "\n"
     ]
    }
   ],
   "source": [
    "solve(\"data/original.csv\", should_sort=True, is_ascending=False)"
   ]
  },
  {
   "cell_type": "code",
   "execution_count": 53,
   "metadata": {},
   "outputs": [
    {
     "name": "stdout",
     "output_type": "stream",
     "text": [
      "(Row #1) Result:\n",
      "                Next Fit  First Fit  Best Fit  Worst Fit  Min Containers Num\n",
      "Containers Num        39         35        34         34                  32\n",
      "Comparison Num        60        870      1709       1709                  32 \n",
      "\n"
     ]
    }
   ],
   "source": [
    "solve(\"data/original-long.csv\")"
   ]
  },
  {
   "cell_type": "code",
   "execution_count": 54,
   "metadata": {},
   "outputs": [
    {
     "name": "stdout",
     "output_type": "stream",
     "text": [
      "(Row #1) Result:\n",
      "                Next Fit  First Fit  Best Fit  Worst Fit  Min Containers Num\n",
      "Containers Num        41         41        41         41                  32\n",
      "Comparison Num       340       1154      1961       1961                  32 \n",
      "\n"
     ]
    }
   ],
   "source": [
    "solve(\"data/original-long.csv\", should_sort=True)"
   ]
  },
  {
   "cell_type": "code",
   "execution_count": 55,
   "metadata": {},
   "outputs": [
    {
     "name": "stdout",
     "output_type": "stream",
     "text": [
      "(Row #1) Result:\n",
      "                Next Fit  First Fit  Best Fit  Worst Fit  Min Containers Num\n",
      "Containers Num        41         35        34         34                  32\n",
      "Comparison Num       338       1292      3159       3159                  32 \n",
      "\n"
     ]
    }
   ],
   "source": [
    "solve(\"data/original-long.csv\", should_sort=True, is_ascending=False)"
   ]
  }
 ],
 "metadata": {
  "kernelspec": {
   "display_name": "Python 3",
   "language": "python",
   "name": "python3"
  },
  "language_info": {
   "codemirror_mode": {
    "name": "ipython",
    "version": 3
   },
   "file_extension": ".py",
   "mimetype": "text/x-python",
   "name": "python",
   "nbconvert_exporter": "python",
   "pygments_lexer": "ipython3",
   "version": "3.10.12"
  },
  "orig_nbformat": 4
 },
 "nbformat": 4,
 "nbformat_minor": 2
}
